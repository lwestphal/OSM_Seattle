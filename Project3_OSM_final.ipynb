{
 "cells": [
  {
   "cell_type": "markdown",
   "metadata": {},
   "source": [
    "# <b> Open Street Map data from Seattle, WA, USA. </b>\n",
    "\n",
    "I chose to explore Seattle, WA because I am considering making a move there at some point in the future\n",
    "and I would like to know if it would be a suitable place for me to live.\n",
    "\n",
    "I downloaded the raw OSM file (1.61 GB) from:\n",
    "\n",
    "https://www.openstreetmap.org/export#map=12/47.6065/-122.3321 \n",
    "\n",
    "with overpass API. \n",
    "\n"
   ]
  },
  {
   "cell_type": "markdown",
   "metadata": {},
   "source": [
    "<b> PROBLEMS </b>\n",
    "\n",
    "1. From sample file, it's clear that the street names need some cleaning- there are inconsistent abbreviations for direction (NE) and Street, etc.\n",
    "\n",
    "2. Looked for inconsistencies in labeling in the postcode and didn't find any problems with postcode, house number or city name (surprising!)\n",
    "\n",
    "3. Those tags of type = 'not' are not in Seattle - get rid of them.\n",
    "\n",
    "4. Get rid of tags of type = 'removed'.\n",
    "\n",
    "5. Check out key = 'fixme' - these are tags that need to be fixed so will be removed for now.\n",
    "\n",
    "6. nodes - types appartment - only one but fix spelling so it can be searched for later.\n",
    "\n",
    "7. want to look into tiger or josm?"
   ]
  },
  {
   "cell_type": "markdown",
   "metadata": {},
   "source": [
    "For the first problem, I cleaned up the Street Names, very similarly to how it was done in the previous assignment. The main difference is that I looked up a lot of street names on Google maps based on the lat and lon values in order\n",
    "to see what the correct street name should be (since in some cases there was only information on the name and not type, e.g. 'Mcgarigle' when it should be 'Mcgarigle Road')"
   ]
  },
  {
   "cell_type": "code",
   "execution_count": 2,
   "metadata": {
    "collapsed": true
   },
   "outputs": [],
   "source": [
    "#these are the modules needed for all the code in this project: #\n",
    "\n",
    "import xml.etree.cElementTree as ET\n",
    "import pprint\n",
    "import re\n",
    "from collections import defaultdict\n",
    "import pandas as pd\n",
    "import csv\n",
    "import codecs\n",
    "import sqlite3\n",
    "import numpy as np\n",
    "import matplotlib as plt\n",
    "%matplotlib inline\n",
    "\n",
    "# various raw and sample file names #\n",
    "in_file = 'seattle_washington.osm' \n",
    "sample_file = \"seattle_sample.osm\"\n",
    "out_file = 'seattle_fixed.osm'\n",
    "sample_testing_file ='sample_testing.osm'\n"
   ]
  },
  {
   "cell_type": "code",
   "execution_count": 44,
   "metadata": {
    "collapsed": false
   },
   "outputs": [],
   "source": [
    "# this is the generator function used to iterate across the OSM file, written by Udacity #\n",
    "\n",
    "def get_element(osm_file, tags=('node', 'way', 'relation')):\n",
    "    \"\"\"Yield element if it is the right type of tag\n",
    "\n",
    "    Reference:\n",
    "    http://stackoverflow.com/questions/3095434/inserting-newlines-in-xml-file-generated-via-xml-etree-elementtree-in-python\n",
    "    \"\"\"\n",
    "    context = iter(ET.iterparse(osm_file, events=('start', 'end')))\n",
    "    _, root = next(context)\n",
    "    for event, elem in context:\n",
    "        if event == 'end' and elem.tag in tags:\n",
    "            yield elem\n",
    "            root.clear()\n",
    "\n",
    "# this is the function written to write a sample file #\n",
    "def create_sample_file(in_file, out_file, k=180000):\n",
    "    with open(out_file, 'wb') as output:\n",
    "        output.write('<?xml version=\"1.0\" encoding=\"UTF-8\"?>\\n')\n",
    "        output.write('<osm>\\n  ')\n",
    "\n",
    "    # Write every kth top level element\n",
    "        for i, element in enumerate(get_element(in_file)):\n",
    "            if i % k == 0:\n",
    "                output.write(ET.tostring(element, encoding='utf-8'))\n",
    "        output.write('</osm>')\n",
    "        \n",
    "#to create sample file, run the function below:\n",
    "create_sample_file(in_file, sample_file)"
   ]
  },
  {
   "cell_type": "markdown",
   "metadata": {},
   "source": [
    " this is the code used both to ascertain street name problems and to fix the street names #\n",
    "\n",
    " Let's clean up the streets\n",
    "\n",
    " <b> Problem 1: </b>\n",
    " Searched through the set of street names that were not in OK_streets \n",
    " and used google maps to assign better names for them, thankfully there weren't *too* many."
   ]
  },
  {
   "cell_type": "code",
   "execution_count": null,
   "metadata": {
    "collapsed": true
   },
   "outputs": [],
   "source": [
    "OK_streets = ['Street', 'Court', 'Boulevard', 'Lane', 'Parkway', 'Circle', 'Avenue', 'Place',\n",
    "              'Drive', 'Square', \"Trail\", \"Commons\", 'Northeast', 'Northwest', 'Southwest', \n",
    "              \"Southeast\", 'Park', 'Esplanade', 'Broadway', 'US-101', 'US-2', 'WA-99', \"Road\", \n",
    "              \"Plateau\" ]\n",
    "\n",
    "# Street names to fix in both nodes and ways tags\n",
    "better_st_name = {'Mcgarigle':'Mcgarigle Road',\n",
    "    'Park': 'Park Lane',\n",
    "    'bjuin': 'Bjune Drive Southeast',\n",
    "    'Broad' : 'Broadway',\n",
    "    'Douglas': 'Douglas Street',\n",
    "    'Kincaid': 'West Kincaid Street',\n",
    "    '4114':'187th Avenue Southeast',\n",
    "    'Roosevelt': 'Roosevelt Avenue',\n",
    "    'Kulshan': 'Kulshan Avenue',\n",
    "    'Cleveland': 'Cleveland Avenue',\n",
    "    'Milwaukee': 'Milwaukee Street',\n",
    "    'Maple': 'Maple Street',\n",
    "    'FIXME': '235th Avenue Northeast',\n",
    "    'http://local.safeway.com/wa/tacoma-1594.html': 'South 56th Street',\n",
    "    'Yesler': 'Yesler Terrace',\n",
    "    'Burwell': 'Burwell Street',\n",
    "    'Snoqualmie': 'Montgomery Street',\n",
    "    'Market': 'North Market Boulevard',\n",
    "    'Central': 'Central Way',\n",
    "    'Myrtle':'Myrtle Street',\n",
    "    'Murdock':'Murdock Street',\n",
    "    'Laventure' :  'North Laventure Road',\n",
    "    'Cleveland': 'Cleveland Avenue',\n",
    "              'SE':'Southeast',\n",
    "              'NW':'Northwest',\n",
    "              'NE': 'Northeast',\n",
    "              'SW' : 'Southwest',\n",
    "              'N':'North',\n",
    "              'S':'South',\n",
    "              'W':'West',\n",
    "              'E':'East',\n",
    "              'St': 'Street',\n",
    "              'St.':'Street',\n",
    "              'Rd':'Road',\n",
    "              'Rd.': 'Road',\n",
    "              'Ln': 'Lane',\n",
    "              'Ln.': 'Lane',\n",
    "              'ST':'Street',\n",
    "              'Blvd': 'Boulevard',\n",
    "              'street':'Street',\n",
    "              'st':'Street',\n",
    "              'avenue':'Avenue',\n",
    "              'n':'North',\n",
    "              'se':'Southeast',\n",
    "              'Wy':'Way',\n",
    "              'southwest':'Southwest',\n",
    "              'Pkwy':'Parkway',\n",
    "              'W.':'West',\n",
    "              \"PL\":'Place',\n",
    "              'AVENUE':'Avenue',\n",
    "              'E,':'East',\n",
    "              \"E.\":'East',\n",
    "              'boulevard':'Boulevard',\n",
    "              'west':'West',\n",
    "              'south':'South',\n",
    "              'AVE':'Avenue',\n",
    "              'S.':'South',\n",
    "              \"ROAD\":'Road',\n",
    "              'N.E.':'Northeast',\n",
    "              'S.E.':'Southeast',\n",
    "              'av.':'Avenue',\n",
    "              'se':'Southeast',\n",
    "              'Ct':'Court',\n",
    "              \"Blvd.\":'Boulevard',\n",
    "              'WY':'Way'}\n",
    "\n",
    "\n",
    "# these are the regex compilations used to find problematic addresses, ways, and names\n",
    "\n",
    "street_name = re.compile(r'\\b\\S+\\.?$', re.IGNORECASE)\n",
    "match_add = re.compile(r'^addr', re.IGNORECASE) #matches 'addr'\n",
    "match_way = re.compile(r'[a-zA-Z]*(way)[a-zA-Z]*', re.IGNORECASE) # matches 'way'\n",
    "match_name = re.compile(r'[a-zA-Z]*(name)[a-zA-Z]*', re.IGNORECASE) # matches 'name'\n",
    "\n",
    "\n",
    "def is_thing(elem, re_comp): \n",
    "    '''Return description of whatever re.comp for an element'''\n",
    "    addr = re_comp.match(elem)\n",
    "    if addr:\n",
    "        return (elem)\n",
    "\n",
    "def audit_k_name(filename, k_attrib):\n",
    "    '''Make a set of street names that don't conform to list'''\n",
    "    not_good = []\n",
    "    for i, elem in ET.iterparse(filename):\n",
    "        if elem.tag == 'tag':\n",
    "            if elem.attrib['k'] in k_attrib:\n",
    "                sn = street_name.match(elem.attrib['v'])\n",
    "                if sn:\n",
    "                    street_type = sn.group(0)\n",
    "                    if street_type not in OK_streets:\n",
    "                        not_good.append(street_type)\n",
    "                    \n",
    "    return set(not_good)\n",
    "\n",
    "not_good = audit_k_name(in_file) #contains list of unique attributes that don't match acceptable street names\n",
    "            \n"
   ]
  },
  {
   "cell_type": "markdown",
   "metadata": {},
   "source": [
    " - the sample file had zero problem street names - that's remarkable - same was not true for the full file\n",
    " - that's hilarious, there are 'FIXME' streets! This dataset is literally begging to be fixed :) \n",
    " - The 'FIXME' lat and lon seem to be referring to a cluster of houses located in the 800 block of 235th Ave NE \n",
    " - looked it up on google maps! These were in the node tags.\n"
   ]
  },
  {
   "cell_type": "code",
   "execution_count": null,
   "metadata": {
    "collapsed": true
   },
   "outputs": [],
   "source": [
    "def detail_bad_names(filename, not_good): \n",
    "    '''Print details of bad street name tags/parents'''\n",
    "    for i, elem in ET.iterparse(filename):\n",
    "        if elem.tag == 'node':\n",
    "            for tag in elem.findall('tag'):\n",
    "                if tag.attrib['k'] in k_add_fields:\n",
    "                    if tag.attrib['v'] in not_good:\n",
    "                        print tag.attrib\n",
    "        if elem.tag == 'way':\n",
    "            for tag in elem.findall('tag'):\n",
    "                if tag.attrib['k']in k_add_fields:\n",
    "                    if tag.attrib['v'] in not_good:\n",
    "                        print tag.attrib\n",
    "        if elem.tag == 'relationships':\n",
    "            for tag in elem.findall('tag'):\n",
    "                if tag.attrib['k'] in k_add_fields:\n",
    "                    if tag.attrib['v'] in not_good:\n",
    "                        print tag.attrib\n",
    "\n",
    "\n",
    "def contains_thing(infile):\n",
    "    '''Print set of attributes that match whatever re.comp set in is_thing()'''\n",
    "    x = []\n",
    "    na = []\n",
    "    for element in get_element(infile):\n",
    "        if element.tag == 'node':\n",
    "            for node in element:\n",
    "                if node.tag == 'tag':\n",
    "                    y = node.attrib['k']\n",
    "                    if is_thing(y, match_way):\n",
    "                        x.append(y)\n",
    "                    else:\n",
    "                        na.append(y)\n",
    "    print set(x)\n",
    "\n",
    "\n",
    "\n",
    "#match_add = re.compile(r'^addr:')\n",
    "add = [match_add.match(i) for i in k]\n",
    "k_noadd_fields = contains_add(in_file)\n",
    "detail_bad_names(sample_file, not_good)\n",
    "k_name_fields = ['name_2', 'name:1995-1996_1', 'name:pt', 'name_1', 'name:arz', 'name:mr', 'name:ko', 'name:kn', \n",
    "                 'name:ur', 'name:ar', 'name:cs', 'name:tt', 'name:mg', 'name:ro', 'name:am', 'name:it', 'name:tl', \n",
    "                 'name:zh-min-nan', 'name:ru', 'name:pl', 'name:ta', 'name:2004-2007_1', 'name:ca', 'name:af', \n",
    "                 'name:vi', 'name:fa', 'name_old', 'name:fi', 'name:hi', 'name:de', 'name:pi', 'name:fr', 'name:vo', \n",
    "                 'name:zh', 'name:hy', 'name:1999-2004', 'name:1996-1997', 'name:lv', 'name:ja', 'name:lt', 'name:uz', \n",
    "                 'name:1995-1996', 'name:he', 'name:1987-1989', 'name:bs', 'name:bn', 'name:la', 'name:2012-2014', \n",
    "                 'name3', 'name:uk', 'name:2004-2007', 'name:be', 'name:ug', 'name:bg', 'name:hr', 'name:eo', 'name:en', \n",
    "                 'name', 'name:th', 'name:sv', 'name:war', 'STREETNAME', 'name:nl', 'name:es', 'name:sal']\n",
    "k_way_fields = ['raceway', 'aerialway', 'railway:local_operated', 'cycleway', 'railway:signal:direction', 'aeroway', \n",
    "                'railway:signal:form', 'railway:traffic_mode', 'takeaway', 'railway:signal:main:states', 'railway', \n",
    "                'railway:signal:main:height', 'railway:position', 'waterway', 'highway', 'highway:lanes']\n"
   ]
  },
  {
   "cell_type": "markdown",
   "metadata": {},
   "source": [
    " didn't see anything from analysis above that I thought would be a problem later.\n",
    " \n",
    " \n",
    " <b>  Problem #2- postcode housecode or city problems? </b>"
   ]
  },
  {
   "cell_type": "code",
   "execution_count": null,
   "metadata": {
    "collapsed": true
   },
   "outputs": [],
   "source": [
    "\n",
    "\n",
    "def audit_addresses(filename): \n",
    "    '''Check out unique instances of k and v attributes - need to be cleaned?'''\n",
    "    x = []\n",
    "    for elem in get_element(filename):\n",
    "        if elem.tag == 'node':\n",
    "            for node in elem:\n",
    "                if node.tag == \"tag\":\n",
    "                    if node.attrib['k'] == 'addr:city':\n",
    "                        city_match = re.compile(r'([a-zA-z]*)')\n",
    "                        city = city_match.match(node.attrib['v'])\n",
    "                        if city:\n",
    "                            pass\n",
    "                        else:\n",
    "                            x.append(1)\n",
    "                    if node.attrib['k'] == 'addr:housenumber':\n",
    "                        housenumber_match = re.compile(r'(\\d*)')\n",
    "                        hn = housenumber_match.match(node.attrib['v'])\n",
    "                        if hn:\n",
    "                            pass\n",
    "                        else:\n",
    "                            x.append(1)\n",
    "                    if node.attrib['k'] == 'addr:postcode':\n",
    "                        zip_match = re.compile(r'(\\d{5})')\n",
    "                        zipcode = housenumber_match.match(node.attrib['v'])\n",
    "                        if zipcode:\n",
    "                            pass\n",
    "                        else:\n",
    "                            x.append(1)\n",
    "        if elem.tag == 'way':\n",
    "            for node in elem:\n",
    "                if node.tag == \"tag\":\n",
    "                    if node.attrib['k'] == 'addr:city':\n",
    "                        city_match = re.compile(r'([a-zA-z]*)')\n",
    "                        city = city_match.match(node.attrib['v'])\n",
    "                        if city:\n",
    "                            pass\n",
    "                        else:\n",
    "                            x.append(1)\n",
    "                    if node.attrib['k'] == 'addr:housenumber':\n",
    "                        housenumber_match = re.compile(r'(\\d*)')\n",
    "                        hn = housenumber_match.match(node.attrib['v'])\n",
    "                        if hn:\n",
    "                            pass\n",
    "                        else:\n",
    "                            x.append(1)\n",
    "                    if node.attrib['k'] == 'addr:postcode':\n",
    "                        zip_match = re.compile(r'(\\d{5})')\n",
    "                        zipcode = housenumber_match.match(node.attrib['v'])\n",
    "                        if zipcode:\n",
    "                            pass\n",
    "                        else:\n",
    "                            x.append(1)\n",
    "    return x\n",
    "\n",
    "\n",
    "\n"
   ]
  },
  {
   "cell_type": "markdown",
   "metadata": {},
   "source": [
    " Any wonky lat or lon values?\n",
    " originally searched for lat and lon values with 5 or more decimal places, but the shorter ones are accurate,\n",
    " I looked them up in google maps\n"
   ]
  },
  {
   "cell_type": "code",
   "execution_count": null,
   "metadata": {
    "collapsed": true
   },
   "outputs": [],
   "source": [
    "def audit_lat_lon(filename, tag):\n",
    "    lat_correct = re.compile(r'(\\d{2}.\\d{3,})')\n",
    "    lon_correct = re.compile(r'(\\-\\d{3}.\\d{3,})')\n",
    "    for i, elem in ET.iterparse(filename):\n",
    "        if elem.tag == tag:\n",
    "            lat = lat_correct.match(elem.attrib['lat'])\n",
    "            lon = lon_correct.match(elem.attrib['lon'])\n",
    "            if not lat:\n",
    "                print elem.attrib\n",
    "            if not lon:\n",
    "                print elem.attrib  "
   ]
  },
  {
   "cell_type": "markdown",
   "metadata": {},
   "source": [
    "<b> Useful Link for lat/lon verification </b>\n",
    "\n",
    "http://stevemorse.org/jcal/latlonbatch.html?direction=reverse - addresses from lat,lon!\n",
    "\n",
    "\n",
    "key: bckGCEiAxEZfQPibAdzayYUcvJ0c8RoA\n"
   ]
  },
  {
   "cell_type": "code",
   "execution_count": null,
   "metadata": {
    "collapsed": true
   },
   "outputs": [],
   "source": [
    "audit_addresses(in_file)\n",
    "\n",
    "#dang, all the addr:things check out. Let's move on!"
   ]
  },
  {
   "cell_type": "markdown",
   "metadata": {},
   "source": [
    "The following functions are written to fix the street names in the OSM file and re-write the OSM file"
   ]
  },
  {
   "cell_type": "code",
   "execution_count": null,
   "metadata": {
    "collapsed": true
   },
   "outputs": [],
   "source": [
    "def update_name(name, mapping):\n",
    "    '''will update street name if it matches the street name regex'''\n",
    "    m = street_name.search(name)\n",
    "    try:\n",
    "        mapping[m.group()]\n",
    "        new_name = re.sub(street_name, mapping[m.group()], name)\n",
    "        return new_name\n",
    "    except:\n",
    "        return name\n",
    "    \n",
    "\n",
    "\n",
    "def write_new_file(infile, outfile):\n",
    "    '''writes a new OSM file with fixed street names'''\n",
    "    with open(outfile, 'w') as outfile:\n",
    "        outfile.write('<?xml version=\"1.0\" encoding=\"UTF-8\"?>\\n')\n",
    "        outfile.write('<osm>\\n  ')\n",
    "        counter = 0\n",
    "        for element in get_element(infile):\n",
    "            if element.tag == 'node':\n",
    "                if element.findall('tag'):  \n",
    "                    for node in element:\n",
    "                        if node.attrib['k'] == 'addr:street': \n",
    "                            new_name = update_name(node.attrib['v'], better_st_name)\n",
    "                            node.attrib['v'] = new_name\n",
    "                    outfile.write(ET.tostring(element, encoding='utf-8'))\n",
    "                    outfile.write('</node>\\n    ')\n",
    "                if element.findall('tag') == []:\n",
    "                    outfile.write(ET.tostring(element, encoding='utf-8'))\n",
    "            if element.tag == 'way':\n",
    "                element_top = ET.tostringlist(element, encoding='utf-8')\n",
    "                outfile.write(''.join(map(str, element_top[0:8])))\n",
    "                outfile.write('\\n        ')\n",
    "                for node in element:\n",
    "                    if node.tag == 'tag':\n",
    "                        if node.attrib['k'] == 'addr:street':\n",
    "                            new_name = update_name(node.attrib['v'], better_st_name)\n",
    "                            node.attrib['v'] = new_name\n",
    "                            outfile.write(ET.tostring(node, encoding = 'utf-8'))\n",
    "                        else:\n",
    "                            outfile.write(ET.tostring(node, encoding='utf-8'))\n",
    "                    else:\n",
    "                        outfile.write(ET.tostring(node, encoding = 'utf-8'))\n",
    "                outfile.write('</way>\\n    ')\n",
    "            if element.tag == 'relation':\n",
    "                ET.tostring(element, encoding='utf-8')\n",
    "        outfile.write('</osm>')\n",
    " \n",
    "\n",
    "\n",
    "\n",
    "#if __name__ == '__main__':\n",
    "#    write_new_file(in_file, out_file )\n"
   ]
  },
  {
   "cell_type": "markdown",
   "metadata": {},
   "source": [
    " Double check that the same # of nodes, ways and relations exist in edited osm file and original\n",
    " this is just to make sure nothing is wrong with my write_new_file function and we get everything out that we need"
   ]
  },
  {
   "cell_type": "code",
   "execution_count": null,
   "metadata": {
    "collapsed": true
   },
   "outputs": [],
   "source": [
    "def count_elements(infile):\n",
    "    num_node = 0\n",
    "    num_way = 0\n",
    "    num_relation = 0\n",
    "    num_JOSM = 0\n",
    "    for element in get_element(infile):     \n",
    "        if element.tag == 'node':\n",
    "            for node in element:\n",
    "                if node.tag == 'tag':\n",
    "                    if node.attrib['v'] == 'JOSM':\n",
    "                        num_JOSM +=1\n",
    "            num_node += 1\n",
    "        if element.tag == 'way':\n",
    "            num_way += 1\n",
    "        if element.tag == 'relation':\n",
    "            num_relation += 1\n",
    "    print 'file:' '{} {}{} {}{} {}{}'.format(in_file, 'number of ways:', num_way, 'number of JOSM:', \n",
    "                              num_JOSM,'number of relations:', num_relation)\n",
    "            \n",
    "# at one point I was concerned about the JOSM entries, but they checked out OK.\n",
    "# count_elements(in_file), count_elements(out_file) "
   ]
  },
  {
   "cell_type": "markdown",
   "metadata": {},
   "source": [
    "Write files to csv for import into Sqlite3\n",
    "many of these functions are modified from the last assignment before this project\n",
    "that includes process_map, UnicodeDictWriter, get_element, shape_element and parse_type_attribute\n",
    "\n",
    "\n",
    "\n"
   ]
  },
  {
   "cell_type": "code",
   "execution_count": null,
   "metadata": {
    "collapsed": true
   },
   "outputs": [],
   "source": [
    "NODES_PATH = \"nodes.csv\"\n",
    "NODE_TAGS_PATH = \"nodes_tags.csv\"\n",
    "WAYS_PATH = \"ways.csv\"\n",
    "WAY_NODES_PATH = \"ways_nodes.csv\"\n",
    "WAY_TAGS_PATH = \"ways_tags.csv\"\n",
    "REL_TAGS_PATH = 'rel_tags.csv'\n",
    "REL_MEMBERS_PATH = 'rel_members.csv'\n",
    "RELS_PATH = 'relations_nodes.csv'\n",
    "\n",
    "LOWER_COLON = re.compile(r'^([a-z]|_)+:([a-z]|_)+')\n",
    "PROBLEMCHARS = re.compile(r'[=\\+/&<>;\\'\"\\?%#$@\\,\\. \\t\\r\\n]')\n",
    "\n",
    "in_file = 'seattle_fixed.osm'\n",
    "\n",
    "# Make sure the fields order in the csvs matches the column order in the sql table schema\n",
    "NODE_FIELDS = ['id', 'lat', 'lon', 'user', 'uid', 'version', 'changeset', 'timestamp']\n",
    "NODE_TAGS_FIELDS = ['id', 'key', 'value', 'type']\n",
    "WAY_FIELDS = ['id', 'user', 'uid', 'version', 'changeset', 'timestamp']\n",
    "WAY_TAGS_FIELDS = ['id', 'key', 'value', 'type']\n",
    "WAY_NODES_FIELDS = ['id', 'node_id', 'position']\n",
    "REL_TAGS_FIELDS = ['id','key','value','type']\n",
    "REL_MEMBERS_FIELDS = ['reference', 'role', 'type']\n",
    "REL_FIELDS = ['id','user','uid','version','changeset', 'timestamp']\n",
    "\n",
    "\n",
    "def shape_element(elem):   \n",
    "    node_attribs = dict.fromkeys(NODE_FIELDS) #dictionary of node parent\n",
    "    ways_attribs = dict.fromkeys(WAY_FIELDS) #dictionary of ways parent\n",
    "    node_tags= [] #list of dictionaries of node parent, tags children\n",
    "    way_tags = [] #list of dictionaries of way parent, tags children\n",
    "    way_nodes = [] # list of dictionaries of way parent, nd children\n",
    "    rel_attribs = dict.fromkeys(REL_FIELDS)\n",
    "    rel_members = []\n",
    "    rel_tags = []\n",
    "    count = 0\n",
    "    if elem.tag == 'way':\n",
    "        id_way = elem.attrib['id']\n",
    "        ways_attribs['id'] = elem.attrib['id']\n",
    "        ways_attribs['user'] = elem.attrib['user']\n",
    "        ways_attribs['uid'] = elem.attrib['uid']\n",
    "        ways_attribs['version'] = elem.attrib['version']\n",
    "        ways_attribs['changeset'] = elem.attrib['changeset']\n",
    "        ways_attribs['timestamp'] = elem.attrib['timestamp']\n",
    "        for node in elem:  \n",
    "            if node.tag =='tag':\n",
    "                t, k = parse_type_attrib(node)\n",
    "                if k == None:\n",
    "                    pass \n",
    "                else:\n",
    "                    if t:\n",
    "                        way_dict = {'id' : id_way,\n",
    "                                     'value' : node.attrib['v'],\n",
    "                                     'key' : k,\n",
    "                                    'type' : t}\n",
    "                    else:\n",
    "                        way_dict = {'id' : id_way,\n",
    "                                     'value' : node.attrib['v'],\n",
    "                                     'key' : k,\n",
    "                                    'type' : 'regular'}\n",
    "                    way_tags.append(way_dict)\n",
    "            if node.tag == 'nd':\n",
    "                way_nodes_dict = {'id' : id_way,\n",
    "                                'node_id' : node.attrib['ref'],\n",
    "                                'position': count}\n",
    "                way_nodes.append(way_nodes_dict)\n",
    "                count += 1           \n",
    "        return {'way': ways_attribs, 'way_nodes': way_nodes, 'way_tags': way_tags}\n",
    "    if elem.tag == 'node':\n",
    "        if len(elem.attrib.keys())== 8:\n",
    "            id_node = elem.attrib['id']\n",
    "            node_attribs['id'] = elem.attrib['id']\n",
    "            node_attribs['user'] = elem.attrib['user']\n",
    "            node_attribs['lat'] = elem.attrib['lat']\n",
    "            node_attribs['lon'] = elem.attrib['lon']\n",
    "            node_attribs['uid'] = elem.attrib['uid']\n",
    "            node_attribs['version'] = elem.attrib['version']\n",
    "            node_attribs['changeset'] = elem.attrib['changeset']\n",
    "            node_attribs['timestamp'] = elem.attrib['timestamp']\n",
    "            for node in elem:\n",
    "                if node.tag == 'tag':\n",
    "                    t, k = parse_type_attrib(node)\n",
    "                    if k == None: \n",
    "                        pass                 \n",
    "                    else:\n",
    "                        if t:\n",
    "                            node_dict = {'id' : id_node,\n",
    "                                 'value' : node.attrib['v'],\n",
    "                                 'key' : k,\n",
    "                                'type' : t}   \n",
    "                        else:\n",
    "                            node_dict = {'id' : id_node,\n",
    "                                 'value' : node.attrib['v'],\n",
    "                                 'key' : k,\n",
    "                                'type' : 'regular'}\n",
    "                            \n",
    "                        node_tags.append(node_dict)\n",
    "                else:\n",
    "                    node_tags.append([])       \n",
    "        return {'node': node_attribs, 'node_tags': node_tags}\n",
    "    if elem.tag == 'relation':\n",
    "            id_relation = elem.attrib['id']\n",
    "            rel_attribs['id'] = elem.attrib['id']\n",
    "            rel_attribs['user'] = elem.attrib['user']\n",
    "            rel_attribs['uid'] = elem.attrib['uid']\n",
    "            rel_attribs['version'] = elem.attrib['version']\n",
    "            rel_attribs['changeset'] = elem.attrib['changeset']\n",
    "            rel_attribs['timestamp'] = elem.attrib['timestamp']\n",
    "            for node in elem:\n",
    "                if node.tag == 'tag':\n",
    "                    t, k = parse_type_attrib(node)\n",
    "                    if k == None: \n",
    "                        pass                 \n",
    "                    else:\n",
    "                        if t:\n",
    "                            rel_dict = {'id' : id_relation,\n",
    "                                 'value' : node.attrib['v'],\n",
    "                                 'key' : k,\n",
    "                                'type' : t}   \n",
    "                        else:\n",
    "                            rel_dict = {'id' : id_relation,\n",
    "                                 'value' : node.attrib['v'],\n",
    "                                 'key' : k,\n",
    "                                'type' : 'regular'}\n",
    "                            \n",
    "                        rel_tags.append(rel_dict)  \n",
    "                if node.tag == 'member':  \n",
    "                    rel_members_dict = {'reference' : node.attrib['ref'],\n",
    "                                        'role' : node.attrib['role'],\n",
    "                                        'type': node.attrib['type']} \n",
    "                    rel_members.append(rel_members_dict) \n",
    "            return {'relation': rel_attribs, 'rel_tags': rel_tags, 'rel_members': rel_members}\n",
    "        \n",
    "def get_element(osm_file, tags=('node', 'way', 'relation')):\n",
    "    \"\"\"Yield element if it is the right type of tag\"\"\"\n",
    "\n",
    "    context = ET.iterparse(osm_file, events=('start', 'end'))\n",
    "    _, root = next(context)\n",
    "    for event, elem in context:\n",
    "        if event == 'end' and elem.tag in tags:\n",
    "            yield elem\n",
    "            root.clear()\n",
    "\n",
    "\n",
    "\n",
    "def parse_type_attrib(elem):      \n",
    "    before = re.compile(r'^([a-z]+):') #pattern to find ahead of :\n",
    "    tag_key = re.compile(r'^[a-z]+:([a-z]+:?[a-z]+.?[a-z]*)') #pattern to find after :\n",
    "    PROBLEMCHARS = re.compile(r'([=\\+\\/&<>;\\'\"\\?%#$@\\,\\. \\t\\r\\n])')\n",
    "    m = before.search(elem.attrib['k'])\n",
    "    l = tag_key.search(elem.attrib['k'])\n",
    "    pc = PROBLEMCHARS.search(elem.attrib['k'])\n",
    "    if pc:\n",
    "        t = None\n",
    "        k = None  \n",
    "        return t, k \n",
    "        pass\n",
    "    if m:\n",
    "        \n",
    "        t = m.group(1)    \n",
    "    if l:\n",
    "        \n",
    "        k = l.group(1)   \n",
    "    else:\n",
    "        \n",
    "        k = elem.attrib['k'] \n",
    "        t = None\n",
    "    return t, k\n",
    "            \n",
    "\n",
    "\n",
    "def process_map(file_in): ## ADD RELATIONS\n",
    "    \"\"\"Iteratively process each XML element and write to csv(s)\"\"\"\n",
    "\n",
    "    with codecs.open(NODES_PATH, 'w') as nodes_file, \\\n",
    "        codecs.open(NODE_TAGS_PATH, 'w') as nodes_tags_file, \\\n",
    "        codecs.open(WAYS_PATH, 'w') as ways_file, \\\n",
    "        codecs.open(WAY_NODES_PATH, 'w') as way_nodes_file, \\\n",
    "        codecs.open(WAY_TAGS_PATH, 'w') as way_tags_file, \\\n",
    "        codecs.open(REL_TAGS_PATH, 'w') as rel_tags_file, \\\n",
    "        codecs.open(REL_MEMBERS_PATH, 'w') as rel_members_file, \\\n",
    "        codecs.open(RELS_PATH, 'w') as rel_file:\n",
    "\n",
    "        nodes_writer = UnicodeDictWriter(nodes_file, NODE_FIELDS)\n",
    "        node_tags_writer = UnicodeDictWriter(nodes_tags_file, NODE_TAGS_FIELDS)\n",
    "        ways_writer = UnicodeDictWriter(ways_file, WAY_FIELDS)\n",
    "        way_nodes_writer = UnicodeDictWriter(way_nodes_file, WAY_NODES_FIELDS)\n",
    "        way_tags_writer = UnicodeDictWriter(way_tags_file, WAY_TAGS_FIELDS)\n",
    "        rel_tags_writer = UnicodeDictWriter(rel_tags_file, REL_TAGS_FIELDS)\n",
    "        rel_members_writer = UnicodeDictWriter(rel_members_file, REL_MEMBERS_FIELDS)\n",
    "        rels_writer = UnicodeDictWriter(rel_file, REL_FIELDS)\n",
    "\n",
    "        nodes_writer.writeheader()\n",
    "        node_tags_writer.writeheader()\n",
    "        ways_writer.writeheader()\n",
    "        way_nodes_writer.writeheader()\n",
    "        way_tags_writer.writeheader()\n",
    "        rel_tags_writer.writeheader()\n",
    "        rel_members_writer.writeheader()\n",
    "        rels_writer.writeheader()\n",
    "\n",
    "        for element in get_element(file_in, tags=('node', 'way', 'relation')):\n",
    "            el = shape_element(element)\n",
    "            if el:\n",
    "                if element.tag == 'node':\n",
    "                    nodes_writer.writerow(el['node'])\n",
    "                    node_tags_writer.writerows(el['node_tags'])\n",
    "                elif element.tag == 'way':\n",
    "                    ways_writer.writerow(el['way'])\n",
    "                    way_nodes_writer.writerows(el['way_nodes'])\n",
    "                    way_tags_writer.writerows(el['way_tags'])\n",
    "                elif element.tag == 'relation':\n",
    "                    rels_writer.writerow(el['relation'])\n",
    "                    rel_members_writer.writerows(el['rel_members'])\n",
    "                    rel_tags_writer.writerows(el['rel_tags'])\n",
    "\n",
    "class UnicodeDictWriter(csv.DictWriter, object):\n",
    "    \"\"\"Extend csv.DictWriter to handle Unicode input\"\"\"\n",
    "\n",
    "    def writerow(self, row):\n",
    "        super(UnicodeDictWriter, self).writerow({\n",
    "            k: (v.encode('utf-8') if isinstance(v, unicode) else v) for k, v in row.iteritems()\n",
    "        })\n",
    "\n",
    "    def writerows(self, rows):\n",
    "        for row in rows:\n",
    "            self.writerow(row)\n",
    "\n",
    "#if __name__ == '__main__':\n",
    "#    process_map(in_file)"
   ]
  },
  {
   "cell_type": "markdown",
   "metadata": {},
   "source": [
    "Since the csv files are easier to handle than the OSM files, this is a good time to look through the data \n",
    "in a little more detail, using pandas (because pandas is so cool!!)\n"
   ]
  },
  {
   "cell_type": "code",
   "execution_count": null,
   "metadata": {
    "collapsed": true
   },
   "outputs": [],
   "source": [
    "way_nodes = \"ways_nodes.csv\"\n",
    "ways_tags = \"ways_tags.csv\"\n",
    "nodes_tags = \"nodes_tags.csv\"\n",
    "ns = \"nodes.csv\"\n",
    "\n",
    "w_nodes = pd.read_csv(way_nodes)\n",
    "w_tags = pd.read_csv(ways_tags)\n",
    "n_tags = pd.read_csv(nodes_tags)\n",
    "nodes = pd.read_csv(ns)\n",
    "\n",
    "n_values = n_tags['value'].unique() # see unique values of nodes\n",
    "\n"
   ]
  },
  {
   "cell_type": "code",
   "execution_count": null,
   "metadata": {
    "collapsed": true
   },
   "outputs": [],
   "source": [
    "## Remove the key values of 'fixme' and 'removed' from csv files\n",
    "# there are over 2000 places where key = 'fixme'    \n",
    "# in the ways and nodes fields, these are incomplete entries and have been removed.\n",
    "\n",
    "w_tags = w_tags[w_tags['key'] != 'fixme']\n",
    "n_tags = n_tags[n_tags['key'] != 'fixme'] \n",
    "w_tags = w_tags[w_tags['type'] != 'not']\n",
    "n_tags = n_tags[n_tags['type'] != 'not']\n",
    "w_tags = w_tags[w_tags['type'] != 'removed']\n",
    "n_tags = n_tags[n_tags['type'] != 'removed']\n",
    "\n",
    "\n",
    "\n",
    "# 'centre' should be changed to 'center' in the value column\n",
    "index_centre = n_tags[n_tags['value'] == 'centre'].index.tolist()\n",
    "n_tags.iloc[index_centre,2] = 'center'\n",
    "\n",
    "# need to convert date time to something sqlite3 can handle?\n",
    "'''A time string can be in any of the following formats:\n",
    "\n",
    "YYYY-MM-DD\n",
    "YYYY-MM-DD HH:MM\n",
    "YYYY-MM-DD HH:MM:SS\n",
    "YYYY-MM-DD HH:MM:SS.SSS\n",
    "YYYY-MM-DDTHH:MM\n",
    "YYYY-MM-DDTHH:MM:SS\n",
    "YYYY-MM-DDTHH:MM:SS.SSS\n",
    "HH:MM\n",
    "HH:MM:SS\n",
    "HH:MM:SS.SSS\n",
    "now\n",
    "DDDDDDDDDD\n",
    "\n",
    "https://www.sqlite.org/lang_datefunc.html\n",
    "'''\n",
    "\n",
    "# ...it can handle it fine!\n",
    "\n",
    "\n",
    "## replace old csv files with new ones\n",
    "n_tags.to_csv('nodes_tags.csv', index=False)\n",
    "w_tags.to_csv('ways_tags.csv', index=False)"
   ]
  },
  {
   "cell_type": "markdown",
   "metadata": {},
   "source": [
    "One of the things I absolutely HAVE to know about Seattle if I'm ever going to move there is whether there are enough indian restaurants to fulfill my frequent cravings. I was concerned about how the cuisine entries were entered (i.e., are all of the types of restaurants categorized in a way that makes sense?)"
   ]
  },
  {
   "cell_type": "code",
   "execution_count": null,
   "metadata": {
    "collapsed": true
   },
   "outputs": [],
   "source": [
    "uni_cuisine_types = all_rest['value'][all_rest['key'] == 'cuisine'].index.tolist()"
   ]
  },
  {
   "cell_type": "markdown",
   "metadata": {},
   "source": [
    "turns out there are three different ways that indian restaurants are categorized: 'indian', 'Nepalese,_Indian,_Tibetan', and 'Indian,_South_East_Asian'. I decided to change all of these to 'indian' to make it easier to access the information on indian restaurants."
   ]
  },
  {
   "cell_type": "code",
   "execution_count": null,
   "metadata": {
    "collapsed": true
   },
   "outputs": [],
   "source": [
    "indian_id1 = n_tags[n_tags['value'] == 'Nepalese,_Indian,_Tibetan'].index.tolist()\n",
    "indian_id2 = n_tags[n_tags['value'] == 'Indian,_South_East_Asian'].index.tolist()\n",
    "\n",
    "\n",
    "n_tags.iloc[indian_id1,2] = 'indian'\n",
    "n_tags.iloc[indian_id2, 2]= 'indian'"
   ]
  },
  {
   "cell_type": "markdown",
   "metadata": {},
   "source": [
    "# Import .csv files into sqlite3 and QUERY!"
   ]
  },
  {
   "cell_type": "code",
   "execution_count": 6,
   "metadata": {
    "collapsed": false
   },
   "outputs": [
    {
     "data": {
      "text/plain": [
       "'\\n.open seattle.db\\ncreate table ways_tags(id, key, value, type);\\n.mode csv\\n.import way_tags.csv way_tags\\ncreate table ways_tags(id, key, value, type);\\n.mode csv\\n.import ways_tags.csv ways_tags\\ncreate table ways(id, user, uid, version, changeset, timestamp);\\n.mode csv\\n.import ways.csv ways\\ncreate table ways_nodes(id, node_id, position);\\n.mode csv\\n.import ways_nodes.csv ways_nodes\\ncreate table rels_members(reference, node_id, position);\\n.mode csv\\n.import rels_members.csv rels_members\\ncreate table rels_tags(id, key, value, type);\\n.mode csv\\n.import rels_tags.csv rels_tags\\ncreate table relations(id, user, uid, version, changeset, timestamp)\\n.mode csv\\n.import relations.csv relations\\n'"
      ]
     },
     "execution_count": 6,
     "metadata": {},
     "output_type": "execute_result"
    }
   ],
   "source": [
    "#within the sqlite3 command line I input:\n",
    "'''\n",
    ".open seattle.db\n",
    "create table ways_tags(id, key, value, type);\n",
    ".mode csv\n",
    ".import way_tags.csv way_tags\n",
    "create table ways_tags(id, key, value, type);\n",
    ".mode csv\n",
    ".import ways_tags.csv ways_tags\n",
    "create table ways(id, user, uid, version, changeset, timestamp);\n",
    ".mode csv\n",
    ".import ways.csv ways\n",
    "create table ways_nodes(id, node_id, position);\n",
    ".mode csv\n",
    ".import ways_nodes.csv ways_nodes\n",
    "create table rels_members(reference, role, type);\n",
    ".mode csv\n",
    ".import rels_members.csv rels_members\n",
    "create table rels_tags(id, key, value, type);\n",
    ".mode csv\n",
    ".import rels_tags.csv rels_tags\n",
    "create table relations(id, user, uid, version, changeset, timestamp)\n",
    ".mode csv\n",
    ".import relations.csv relations\n",
    "'''\n"
   ]
  },
  {
   "cell_type": "markdown",
   "metadata": {},
   "source": [
    "# Finally, SQL queries\n"
   ]
  },
  {
   "cell_type": "code",
   "execution_count": 18,
   "metadata": {
    "collapsed": true
   },
   "outputs": [],
   "source": [
    "conn = sqlite3.connect('seattle.db')\n",
    "c = conn.cursor()"
   ]
  },
  {
   "cell_type": "markdown",
   "metadata": {},
   "source": [
    "I found a problem while looking through the csv files in sqlite3\n",
    "    - Seattle, WA is located in Kings County. Any counties listed that are not King County are not in Seattle!\n",
    "    - Going to look into these and see if they should be removed or if they describe roads that traverse Seattle."
   ]
  },
  {
   "cell_type": "code",
   "execution_count": 36,
   "metadata": {
    "collapsed": false
   },
   "outputs": [
    {
     "name": "stdout",
     "output_type": "stream",
     "text": [
      "                                 0\n",
      "0                       Pierce, WA\n",
      "1                         King, WA\n",
      "2                    Snohomish, WA\n",
      "3                      Clallam, WA\n",
      "4                 Grays Harbor, WA\n",
      "5       Grays Harbor, WA;Mason, WA\n",
      "6    Grays Harbor, WA:Thurston, WA\n",
      "7                       Island, WA\n",
      "8   Grays Harbor, WA;Jefferson, WA\n",
      "9                    Jefferson, WA\n",
      "10                      Kitsap, WA\n",
      "11            Kitsap, WA:Mason, WA\n",
      "12                    Kittitas, WA\n",
      "13           Kittitas, WA;King, WA\n",
      "14                        Kittitas\n",
      "15                       Lewis, WA\n",
      "16          Lewis, WA;Thurston, WA\n",
      "17                       Mason, WA\n",
      "18                    Thurston, WA\n",
      "19            Lewis, WA:Pierce, WA\n",
      "20     Mason, WA; Grays Harbor, WA\n",
      "21      Mason, WA;Grays Harbor, WA\n",
      "22           Cowlitz, WA:Lewis, WA\n",
      "23                     Pacific, WA\n",
      "24          Thurston, WA;Lewis, WA\n",
      "25                      Yakima, WA\n",
      "26            King, WA; Pierce, WA\n",
      "27          King, WA:Snohomish, WA\n",
      "28             King, WA;Pierce, WA\n",
      "29             King, WA:Pierce, WA\n",
      "30                          Pierce\n",
      "          id                                              value          key\n",
      "0    6196466                                                A41         cfcc\n",
      "1    6196466                                         Yakima, WA       county\n",
      "2    6196466                                        residential      highway\n",
      "3    6196466                                                 no     reviewed\n",
      "4    6196466                                                 no    separated\n",
      "5    6196466                     tiger_import_dch_v0.6_20070830       source\n",
      "6    6196466                      184919933:184919934:184920004         tlid\n",
      "7    6196466  bulk_upload.pl-aefec86d-624f-4830-b32b-f087af0...  upload_uuid\n",
      "8    6196470                                                A41         cfcc\n",
      "9    6196470                                         Yakima, WA       county\n",
      "10   6196470                                        residential      highway\n",
      "11   6196470                                                 no     reviewed\n",
      "12   6196470                                                 no    separated\n",
      "13   6196470                     tiger_import_dch_v0.6_20070830       source\n",
      "14   6196470                                184919936:184920063         tlid\n",
      "15   6196470  bulk_upload.pl-aefec86d-624f-4830-b32b-f087af0...  upload_uuid\n",
      "16   6196495                                                A41         cfcc\n",
      "17   6196495                                         Yakima, WA       county\n",
      "18   6196495                                        residential      highway\n",
      "19   6196495                                                 no     reviewed\n",
      "20   6196495                                                 no    separated\n",
      "21   6196495                     tiger_import_dch_v0.6_20070830       source\n",
      "22   6196495  184920008:184920016:184920021:184920037:184920...         tlid\n",
      "23   6196495  bulk_upload.pl-aefec86d-624f-4830-b32b-f087af0...  upload_uuid\n",
      "24   6200775                                                A41         cfcc\n",
      "25   6200775                                         Yakima, WA       county\n",
      "26   6200775                                        residential      highway\n",
      "27   6200775                                                 no     reviewed\n",
      "28   6200784                                                A41         cfcc\n",
      "29   6200784                                         Yakima, WA       county\n",
      "..       ...                                                ...          ...\n",
      "141  6214117               National Forest Development Road 499         name\n",
      "142  6214117                       Natl Forest Develop Road 499    name_base\n",
      "143  6214117                                                 no     reviewed\n",
      "144  6214117                                                 no    separated\n",
      "145  6214117                     tiger_import_dch_v0.6_20070830       source\n",
      "146  6214117                                          184920694         tlid\n",
      "147  6214711                                                A41         cfcc\n",
      "148  6214711                                         Yakima, WA       county\n",
      "149  6214711                                        residential      highway\n",
      "150  6214711               National Forest Development Road 456         name\n",
      "151  6214711                       Natl Forest Develop Road 456    name_base\n",
      "152  6214711                                                 no     reviewed\n",
      "153  6214712                                                A41         cfcc\n",
      "154  6214712                                         Yakima, WA       county\n",
      "155  6214712                                        residential      highway\n",
      "156  6214712               National Forest Development Road 456         name\n",
      "157  6214712                       Natl Forest Develop Road 456    name_base\n",
      "158  6214712                                                 no     reviewed\n",
      "159  6214712                                                 no    separated\n",
      "160  6214712                     tiger_import_dch_v0.6_20070830       source\n",
      "161  6214712                                          184918911         tlid\n",
      "162  6214754                                                A41         cfcc\n",
      "163  6214754                                         Yakima, WA       county\n",
      "164  6214754                                        residential      highway\n",
      "165  6214754               National Forest Development Road 458         name\n",
      "166  6214754                       Natl Forest Develop Road 458    name_base\n",
      "167  6214754                                                 no     reviewed\n",
      "168  6214754                                                 no    separated\n",
      "169  6214754                     tiger_import_dch_v0.6_20070830       source\n",
      "170  6214754                      184952504:184918917:184950425         tlid\n",
      "\n",
      "[171 rows x 3 columns]\n",
      "This many tags have not been reviewed: 84821.0.\n",
      "This means that 8.09% may be inaccurate!!\n"
     ]
    }
   ],
   "source": [
    "c.execute('''SELECT DISTINCT value FROM ways_tags\n",
    "            WHERE key = \"county\";''')\n",
    "\n",
    "counties = c.fetchall()\n",
    "\n",
    "counties_df = pd.DataFrame.from_records(counties)\n",
    "print counties_df\n",
    "\n",
    "\n",
    "c.execute('''SELECT ways_tags.id, ways_tags.value, ways_tags.key FROM \n",
    "(SELECT id FROM ways_tags WHERE value = 'Yakima, WA') yak\n",
    "JOIN ways ON ways.id = yak.id\n",
    "JOIN ways_tags ON ways_tags.id = yak.id;''')\n",
    "\n",
    "\n",
    "yakima = c.fetchall()\n",
    "\n",
    "df_yak = pd.DataFrame.from_records(yakima)\n",
    "df_yak.columns = ['id', 'value', 'key']\n",
    "print df_yak\n",
    "\n",
    "c.execute('''SELECT COUNT(*) FROM ways_tags\n",
    "               WHERE key = 'reviewed' AND value = 'no';''')\n",
    "not_rev = float(c.fetchall()[0][0])\n",
    "percent = round((not_rev/float(1048576))*100,2)\n",
    "print 'This many tags have not been reviewed: {}.'.format(not_rev)\n",
    "print 'This means that {}% may be inaccurate!!'.format(percent)\n",
    "\n",
    "# in terms of the Yakima entries - they are no where near Seattle and haven't been reviewed - so getting rid of them.\n",
    "# there are over 84,000 entries that have not been reviewed!! \n"
   ]
  },
  {
   "cell_type": "markdown",
   "metadata": {},
   "source": [
    "#Number of ways\n",
    "\n",
    "SELECT COUNT(*) from ways;\n",
    "703369\n",
    "\n",
    "#Number of nodes\n",
    "\n",
    "SELECT COUNT(*) from nodes;\n",
    "7205689\n",
    "\n",
    "#number of node-tags\n",
    "\n",
    "SELECT COUNT(*) from nodes_tags;\n",
    "1058171\n",
    "\n",
    "\n",
    "## number of entries:\n",
    "<pre>\n",
    "\n",
    "|DATA_Type        |Num_instances|\n",
    "|-----------------|-------------|\n",
    "|ways             |       703369|\n",
    "|-----------------|-------------|\n",
    "|nodes            |      7205689|\n",
    "|-----------------|-------------|\n",
    "|relations        |         7999|\n",
    "|-----------------|-------------|\n",
    "|ways-tags        |      3492472|\n",
    "|-----------------|-------------|\n",
    "|ways-nodes (nd)  |      8006058|\n",
    "|-----------------|-------------|\n",
    "|nodes-tags       |      1058171|\n",
    "|-----------------|-------------|\n",
    "|relations-tags   |        33786|\n",
    "|-----------------|-------------|\n",
    "|relations_members|        59282|\n",
    "\n",
    "</pre>\n",
    "#Number of unique users from ways table\n",
    "\n",
    "SELECT COUNT(DISTINCT uid) FROM ways;\n",
    "2069\n",
    "\n",
    "#Number of unique users from nodes table\n",
    "\n",
    "SELECT COUNT(DISTINCT uid) FROM nodes;\n",
    "2637\n",
    "\n",
    "#Number of unique users from relations table\n",
    "\n",
    "SELECT COUNT(DISTINCT uid) FROM relations;\n",
    "313\n",
    "\n",
    "\n",
    "# Relations Information\n",
    " - ## How many records have been contributed by unique users?\n",
    " - ## How many records have been entered (total) each month in the year 2015? (for relations table)\n",
    " - ## How many records have been entered each year?\n",
    " "
   ]
  },
  {
   "cell_type": "code",
   "execution_count": 11,
   "metadata": {
    "collapsed": false
   },
   "outputs": [
    {
     "data": {
      "text/plain": [
       "<matplotlib.axes._subplots.AxesSubplot at 0x11655e290>"
      ]
     },
     "execution_count": 11,
     "metadata": {},
     "output_type": "execute_result"
    },
    {
     "data": {
      "image/png": "[encoded data removed]",
      "text/plain": [
       "<matplotlib.figure.Figure at 0x115aa1590>"
      ]
     },
     "metadata": {},
     "output_type": "display_data"
    },
    {
     "data": {
      "image/png": "[encoded data removed]",
      "text/plain": [
       "<matplotlib.figure.Figure at 0x11627a2d0>"
      ]
     },
     "metadata": {},
     "output_type": "display_data"
    },
    {
     "data": {
      "image/png": "[encoded data removed]",
      "text/plain": [
       "<matplotlib.figure.Figure at 0x116477910>"
      ]
     },
     "metadata": {},
     "output_type": "display_data"
    }
   ],
   "source": [
    "c.execute('''SELECT DISTINCT user, count(*) as num FROM relations\n",
    "            GROUP BY user\n",
    "            ORDER BY num desc;''') \n",
    "\n",
    "all_rows_rel = c.fetchall()\n",
    "\n",
    "df  = pd.DataFrame.from_records(all_rows_rel)\n",
    "rel_user_plot = df[0:20]\n",
    "rel_user_plot.columns = ['user', 'count']\n",
    "rel_user_plot.plot(x='user', y = 'count', legend=False, kind='bar', ylim=(0,2150), title='RELATIONS users')\n",
    "\n",
    "\n",
    "c.execute('''SELECT strftime('%m', timestamp) as month, COUNT(id) as num\n",
    "             FROM relations\n",
    "             WHERE strftime('%Y', timestamp) = '2015'\n",
    "             GROUP BY month;''')\n",
    "\n",
    "rel_2015 = c.fetchall()\n",
    "rel_month_plot  = pd.DataFrame.from_records(rel_2015)\n",
    "rel_month_plot.columns = ['month', 'num_records']\n",
    "rel_month_plot.plot(x='month', y = 'num_records', legend=False, kind='bar', title='number of records entered in 2015 by month (relations)')\n",
    "\n",
    "#looks like February by far is the month with the highest number of records entered at least in 2015\n",
    "# How many records were input by year?\n",
    "\n",
    "c.execute('''SELECT strftime('%Y', timestamp) as year, COUNT(id) as num\n",
    "            FROM relations\n",
    "            GROUP BY year;''')\n",
    "rel_years = c.fetchall()\n",
    "\n",
    "rel_year_plot = pd.DataFrame.from_records(rel_years)\n",
    "rel_year_plot = rel_year_plot[0:11]\n",
    "rel_year_plot.columns = ['year', 'num_records']\n",
    "rel_year_plot.plot(x='year', y='num_records', legend=False, kind='bar', title = 'number of records entered by year (relations)')"
   ]
  },
  {
   "cell_type": "markdown",
   "metadata": {},
   "source": [
    "Looks like sctrojan79 is the contributer with the most entries in the relations table. I looked sctrojan79 up in OSM and it turns out this contributer contributes to both the Seattle, WA and Los Angeles, CA OSM databases. I would be willing to make a bet they attend or attended USC! \n",
    "\n",
    "The most prolific input time appears to be September (at least for 2015) and 2015 is the year that has the greatest number of entries (aside from 2016 since that year hasn't ended yet..). Entries didn't begin until 2009, which is 2 years later than the ways and nodes!"
   ]
  },
  {
   "cell_type": "markdown",
   "metadata": {},
   "source": [
    "# Nodes Information\n",
    " - ## How many records have been contributed by unique users?\n",
    " - ## How many records have been entered (total) each month in the year 2015? (for nodes table)\n",
    " - ## How many records have been entered each year?\n",
    " "
   ]
  },
  {
   "cell_type": "code",
   "execution_count": 12,
   "metadata": {
    "collapsed": false
   },
   "outputs": [
    {
     "data": {
      "text/plain": [
       "<matplotlib.axes._subplots.AxesSubplot at 0x116fa6610>"
      ]
     },
     "execution_count": 12,
     "metadata": {},
     "output_type": "execute_result"
    },
    {
     "data": {
      "image/png": "[encoded data removed]",
      "text/plain": [
       "<matplotlib.figure.Figure at 0x115aadfd0>"
      ]
     },
     "metadata": {},
     "output_type": "display_data"
    },
    {
     "data": {
      "image/png": "[encoded data removed]",
      "text/plain": [
       "<matplotlib.figure.Figure at 0x116857f10>"
      ]
     },
     "metadata": {},
     "output_type": "display_data"
    },
    {
     "data": {
      "image/png": "[encoded data removed]",
      "text/plain": [
       "<matplotlib.figure.Figure at 0x116efb390>"
      ]
     },
     "metadata": {},
     "output_type": "display_data"
    }
   ],
   "source": [
    "c.execute('''SELECT DISTINCT user, count(*) as num FROM nodes\n",
    "            GROUP BY user\n",
    "            ORDER BY num desc;''') # use your column names here\n",
    "\n",
    "all_rows_nodes = c.fetchall()\n",
    "\n",
    "df  = pd.DataFrame.from_records(all_rows_nodes)\n",
    "node_user_plot = df[0:20]\n",
    "node_user_plot.columns = ['user', 'count']\n",
    "node_user_plot.plot(x='user', y = 'count', legend=False, kind='bar', title='NODES users')\n",
    "\n",
    "\n",
    "c.execute('''SELECT strftime('%m', timestamp) as month, COUNT(id) as num\n",
    "             FROM nodes\n",
    "             WHERE strftime('%Y', timestamp) = '2015'\n",
    "             GROUP BY month;''')\n",
    "\n",
    "node_2015 = c.fetchall()\n",
    "node_month_plot  = pd.DataFrame.from_records(node_2015)\n",
    "node_month_plot.columns = ['month', 'num_records']\n",
    "node_month_plot.plot(x='month', y = 'num_records', legend=False, kind='bar', title='number of records entered in 2015 by month (nodes)')\n",
    "\n",
    "\n",
    "#looks like February by far is the month with the highest number of records entered at least in 2015\n",
    "# How many records were input by year?\n",
    "c.execute('''SELECT strftime('%Y', timestamp) as year, COUNT(id) as num\n",
    "            FROM nodes\n",
    "            GROUP BY year;''')\n",
    "node_years = c.fetchall()\n",
    "\n",
    "node_year_plot = pd.DataFrame.from_records(rel_years)\n",
    "node_year_plot = node_year_plot[0:11]\n",
    "node_year_plot.columns = ['year', 'num_records']\n",
    "node_year_plot.plot(x='year', y='num_records', legend=False, kind='bar', title = 'number of records entered by year (nodes)')\n"
   ]
  },
  {
   "cell_type": "markdown",
   "metadata": {},
   "source": [
    "I looked up Glassman, the most prolific contributor of nodes and it turns out Glassman is a leader of OSM in the Washington community and has been making contributions since 2011. Cool!\n",
    "\n",
    "SeattleImport is a group of volunteers who merged data from seattle.data.gov into OSM ~2013\n",
    "Another thing that comes up frequently is TIGER and JOSM:\n",
    " - TIGER is the Topologically Integrated Geographic Encoding and Referencing system built from US Census Data\n",
    " - JOSM is the Java OSM Editor which provides a GUI for people to edit OSM contributions. \n",
    " \n",
    "In contrast to relations, the most entries in 2015 were entered in February. \n",
    "Similary to relations, 2015 was the year with the greatest number of entries (but maybe 2016 will catch up!)\n",
    "\n",
    "# Ways Information\n",
    " - ## How many records have been contributed by unique users?\n",
    " - ## How many records have been entered (total) each month in the year 2015? (for ways table)\n",
    " - ## How many records have been entered each year?"
   ]
  },
  {
   "cell_type": "code",
   "execution_count": 13,
   "metadata": {
    "collapsed": false
   },
   "outputs": [
    {
     "data": {
      "text/plain": [
       "<matplotlib.axes._subplots.AxesSubplot at 0x116ce6c10>"
      ]
     },
     "execution_count": 13,
     "metadata": {},
     "output_type": "execute_result"
    },
    {
     "data": {
      "image/png": "[encoded data removed]",
      "text/plain": [
       "<matplotlib.figure.Figure at 0x115aad950>"
      ]
     },
     "metadata": {},
     "output_type": "display_data"
    },
    {
     "data": {
      "image/png": "[encoded data removed]",
      "text/plain": [
       "<matplotlib.figure.Figure at 0x1172e8550>"
      ]
     },
     "metadata": {},
     "output_type": "display_data"
    },
    {
     "data": {
      "image/png": "[encoded data removed]",
      "text/plain": [
       "<matplotlib.figure.Figure at 0x116f57110>"
      ]
     },
     "metadata": {},
     "output_type": "display_data"
    }
   ],
   "source": [
    "c.execute('''SELECT DISTINCT user, count(*) as num FROM ways\n",
    "            GROUP BY user\n",
    "            ORDER BY num desc;''') # use your column names here\n",
    "\n",
    "all_rows_ways = c.fetchall()\n",
    "\n",
    "df  = pd.DataFrame.from_records(all_rows_ways)\n",
    "way_user_plot = df[0:20]\n",
    "way_user_plot.columns = ['user', 'count']\n",
    "way_user_plot.plot(x='user', y = 'count', legend=False, kind='bar', title='WAYS users')\n",
    "\n",
    "c.execute('''SELECT strftime('%m', timestamp) as month, COUNT(id) as num\n",
    "             FROM ways\n",
    "             WHERE strftime('%Y', timestamp) = '2015'\n",
    "             GROUP BY month;''')\n",
    "\n",
    "year_2015 = c.fetchall()\n",
    "way_month_plot  = pd.DataFrame.from_records(year_2015)\n",
    "way_month_plot.columns = ['month', 'num_records']\n",
    "way_month_plot.plot(x='month', y = 'num_records', legend=False, kind='bar', title='number of records entered in 2015 by month')\n",
    "\n",
    "\n",
    "#looks like February by far is the month with the highest number of records entered at least in 2015\n",
    "# How many records were input by year?\n",
    "c.execute('''SELECT strftime('%Y', timestamp) as year, COUNT(id) as num\n",
    "            FROM ways\n",
    "            GROUP BY year;''')\n",
    "all_years = c.fetchall()\n",
    "\n",
    "all_year_plot = pd.DataFrame.from_records(all_years)\n",
    "all_year_plot = all_year_plot[1:11]\n",
    "all_year_plot.columns = ['year', 'num_records']\n",
    "all_year_plot.plot(x='year', y='num_records', legend=False, kind='bar', title = 'number of records entered by year')\n",
    "\n"
   ]
  },
  {
   "cell_type": "markdown",
   "metadata": {},
   "source": [
    "The ways nodes are not much different from the nodes information- Glassman is still the highest contributor. This is amazing to me because there are large imports that have occurred over the last several years, and Glassman still has those beat! Impressive.\n",
    "\n",
    "Again, February is the month with the most entries in 2015. But 2013 was the grand year of entries (this is probably because of the Seattle Import that occurred in 2013 that I mentioned before).\n",
    "\n",
    "\n",
    "Now for my burning question - what is the restaurant situation in Seattle?\n",
    "\n",
    "# How many of each type of cuisine is there (entered into the db)?"
   ]
  },
  {
   "cell_type": "code",
   "execution_count": 15,
   "metadata": {
    "collapsed": false
   },
   "outputs": [
    {
     "data": {
      "text/plain": [
       "<matplotlib.axes._subplots.AxesSubplot at 0x11640b550>"
      ]
     },
     "execution_count": 15,
     "metadata": {},
     "output_type": "execute_result"
    },
    {
     "data": {
      "image/png": "[encoded data removed]",
      "text/plain": [
       "<matplotlib.figure.Figure at 0x1161edad0>"
      ]
     },
     "metadata": {},
     "output_type": "display_data"
    },
    {
     "data": {
      "image/png": "[encoded data removed]",
      "text/plain": [
       "<matplotlib.figure.Figure at 0x116fae990>"
      ]
     },
     "metadata": {},
     "output_type": "display_data"
    }
   ],
   "source": [
    "\n",
    "\n",
    "c.execute('''SELECT COUNT(*) as num, value FROM nodes_tags\n",
    "            WHERE key = \"cuisine\" \n",
    "            GROUP BY value\n",
    "            ORDER BY num desc;''')\n",
    "counts_rest = c.fetchall()\n",
    "counts_rest\n",
    "df = pd.DataFrame.from_records(counts_rest)\n",
    "df.columns = ['counts', 'cuisine']\n",
    "df = df[0:20]\n",
    "df.plot(x = 'cuisine', y = 'counts', legend = False, kind = 'bar', title = 'number of restaurant types')\n",
    "\n",
    "c.execute('''SELECT count(id) FROM nodes_tags\n",
    "            WHERE key = \"cuisine\";''')\n",
    "\n",
    "total_cuisine= c.fetchall()\n",
    "\n",
    "#df['prop'] = (df['counts']/total_cuisine*100)\n",
    "\n",
    "#props = df['counts'].values/float(total_cuisine)*100\n",
    "df['prop'] = (df['counts'].values/float(total_cuisine[0][0]))*100\n",
    "\n",
    "df.plot(x = 'cuisine', y = 'prop', legend = False, kind = 'bar', title = 'percentage of total of restaurant types')"
   ]
  },
  {
   "cell_type": "markdown",
   "metadata": {},
   "source": [
    "There is the greatest number of entries of coffee shops - no surprise there! About 14% of the cuisine entries are coffee shops. Next in line: pizza, sandwich, mexican, and burger at about 8-9%. Hmmm... I think this might be telling me more about the people entering data than Seattle!\n",
    "\n",
    "Good news for me - there are at least 20 indian restaurants I could try out!"
   ]
  },
  {
   "cell_type": "markdown",
   "metadata": {},
   "source": [
    "How many toilets are listed?\n",
    "\n",
    "SELECT COUNT(*) FROM nodes_tags\n",
    "WHERE value='toilets';\n",
    "\n",
    "==> 596! Not bad!\n",
    "\n",
    "How many bicycle shops?\n",
    "\n",
    "SELECT COUNT(*) FROM nodes_tags\n",
    "WHERE value = 'bicycle';\n",
    "\n",
    "==> 70!\n",
    "\n",
    "And 7 documented gardens. Seattle sounds like a nice place to live."
   ]
  },
  {
   "cell_type": "markdown",
   "metadata": {},
   "source": [
    "# More ideas\n",
    "\n",
    " - I think it would be really useful for cuisine values to have a \"standard\" categorization\n",
    "   - this of course should probably be extended to many of the value tags, it would just make it easier to find what you're looking for\n",
    " - I wish there was some way of knowing how complete the database is\n",
    " - Large imports of data should be marked specifically until they are reviewed - most of the problems I have encountered have been from un-reviewed data dumps.\n",
    " - In fact, it might be nice for other users to be able to \"upvote\" or \"downvote\" entries - this would encourage accurate information while discouraging bad information.\n",
    " "
   ]
  },
  {
   "cell_type": "markdown",
   "metadata": {},
   "source": [
    "# Conclusion\n",
    "\n",
    "The data for Seattle is expansive and pretty thorough - it seems as if a lot of the information is a combination of large data dumps from SeattleImport and government agencies but a significant portion is also added by individuals, which I find impressive. Part of what makes OSM so great is the ability for anyone to contribute to it. But that aspect is also why it can be difficult to analyze - categories aren't well defined or uniform. I think that some back-end effort could be put in to limit the amount of data that is input without review. Overall I think Seattle sounds like a great place to live and I really enjoyed going through this data and seeing how much information is really out there! "
   ]
  },
  {
   "cell_type": "code",
   "execution_count": 38,
   "metadata": {
    "collapsed": true
   },
   "outputs": [],
   "source": [
    "conn.close()"
   ]
  },
  {
   "cell_type": "code",
   "execution_count": null,
   "metadata": {
    "collapsed": true
   },
   "outputs": [],
   "source": []
  }
 ],
 "metadata": {
  "kernelspec": {
   "display_name": "Python 2",
   "language": "python",
   "name": "python2"
  },
  "language_info": {
   "codemirror_mode": {
    "name": "ipython",
    "version": 2
   },
   "file_extension": ".py",
   "mimetype": "text/x-python",
   "name": "python",
   "nbconvert_exporter": "python",
   "pygments_lexer": "ipython2",
   "version": "2.7.12"
  }
 },
 "nbformat": 4,
 "nbformat_minor": 0
}
